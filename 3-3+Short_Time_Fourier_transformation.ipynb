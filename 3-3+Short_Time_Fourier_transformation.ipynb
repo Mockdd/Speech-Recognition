{
 "cells": [
  {
   "cell_type": "code",
   "execution_count": 2,
   "id": "f2d6eb64",
   "metadata": {},
   "outputs": [],
   "source": [
    "import numpy as np\n",
    "import pandas as pd\n",
    "import wave"
   ]
  },
  {
   "cell_type": "code",
   "execution_count": 3,
   "id": "8cb4afda",
   "metadata": {},
   "outputs": [],
   "source": [
    "if __name__ == '__main__':\n",
    "    wav_file = '../data/wav/BASIC5000_0001.wav'\n",
    "    out_plot = './spectrogram.png'\n",
    "    \n",
    "    frame_size = 25\n",
    "    frame_shift = 10\n",
    "    \n",
    "    with wave.open(path) as wav:\n",
    "        sample_frequency = wav.getnframerate()\n",
    "        num_samples = wav.getnframes()\n",
    "        waveform = wav.readframes(num_samples)\n",
    "        waveform = np.frombuffer(waveform, dtype = np.int16)\n",
    "    \n",
    "        frame_size = 25\n",
    "        frame_shift = 10\n",
    "    \n",
    "        frame_size = sample_frequency * 0.001 * frame_size\n",
    "        frame_shift = sample_frequency * 0.001 * frame_shift\n",
    "        \n",
    "        fft_size = 1\n",
    "        while fft_size < frame_size :\n",
    "            fft_size *= 2\n",
    "            \n",
    "        num_frames = ()"
   ]
  },
  {
   "cell_type": "code",
   "execution_count": null,
   "id": "feefb609",
   "metadata": {},
   "outputs": [],
   "source": [
    "    while fft_size < frame_size:\n",
    "        fft_size *= 2\n",
    "\n",
    "        num_frames = (num_samples - frame_size) // frame_shift + 1\n",
    "        spectrogram = np.zeros((num_frames, int(fft_size / 2) + 1))\n",
    "        \n",
    "       "
   ]
  },
  {
   "cell_type": "code",
   "execution_count": null,
   "id": "79168df3",
   "metadata": {},
   "outputs": [],
   "source": [
    "fft_size = 1\n"
   ]
  },
  {
   "cell_type": "code",
   "execution_count": null,
   "id": "e5b83923",
   "metadata": {},
   "outputs": [],
   "source": [
    "     for frame_idex in range(num_frames):\n",
    "            start_index = frame_idx * frame_shift\n",
    "            frame = waveform[start_index :start_index + frame_size].copy()\n",
    "            \n",
    "            frame = frame*np.hamming(frame_size)\n",
    "            spectrum = np.fft.fft(frame, n = fft_size)\n",
    "            absolute = np.abs(spectrum)\n",
    "            absolute = absolute[:np.int(fft_size / 2) + 1]\n",
    "            log_absolute = np.log(absolute)\n",
    "            spectrogram[frame_idx, :] = log_absolute"
   ]
  },
  {
   "cell_type": "code",
   "execution_count": null,
   "id": "0c77f609",
   "metadata": {},
   "outputs": [],
   "source": [
    "    plt.figure(figsize = (10, 10))\n",
    "    plt.subplot(2, 1, 1)\n",
    "    \n",
    "    plt.subplot(2, 1, 2)\n",
    "    spectrogram -= np.max(spectrogram)\n",
    "    vmax = np.abs(np.min(spectrogram)) * 0.0\n",
    "    vmin = -np.abs(np.min(spectrogram)) * 0.7"
   ]
  },
  {
   "cell_type": "code",
   "execution_count": null,
   "id": "033bcbc8",
   "metadata": {},
   "outputs": [],
   "source": [
    "    plt.imshow(spectrogram[-1::-1, :], \n",
    "              extent = [0, num_samples / sample_frequency, \n",
    "                       0, sample_frequency / 2], \n",
    "              cmap = 'gray', \n",
    "              vmax = vmax, \n",
    "              vmin = vmin, \n",
    "              aspect = 'auto')\n",
    "    \n",
    "    \n",
    "    plt.title('spectrogram')\n",
    "    plt.xlabel('Time [sec]')\n",
    "    plt.ylabel('Value')\n",
    "    plt.savefig(out_plot)\n"
   ]
  },
  {
   "cell_type": "code",
   "execution_count": null,
   "id": "35ce6400",
   "metadata": {},
   "outputs": [],
   "source": [
    "if __name__ == '__main__':\n",
    "    wav_file = '../data/wav/BASIC5000_0001.wav'\n",
    "    frame_size = 25\n",
    "    frame_shift = 10\n",
    "    out_plot = './spectrogram.png'\n",
    "    \n",
    "    with wave.open(wav_file) as wav:\n",
    "        sample_frequency = wav.getnframerate()\n",
    "        num_samples = wav.getnframes()\n",
    "        waveform = wav.readframes(num_samples)\n",
    "        waveform = np.frombuffer(waveform, dtype = np.int16)\n",
    "        \n",
    "        frame_size = int(sample_frequency * 0.001 * frame_size )\n",
    "        frame_shift = int(sample_frequency * 0.001 * frame_shift)\n",
    "        fft_size = 1\n",
    "        while fft_size < frame_size:\n",
    "            fft_size *= 2\n",
    "            \n",
    "        num_frames = (num_samples - frame_size) // frame_shift + 1\n",
    "        spectrogram = np.zeros((num_frames, int(fft_size / 2) + 1))\n",
    "        \n",
    "        for frame_idx in range(num_frames):\n",
    "            start_index = frame_idx * frame_shift\n",
    "            frame = waveform[start_index : start_index + frame_size].copy()\n",
    "            \n",
    "            frame = frame*np.hamming(frame_size)\n",
    "            spectrum = np.fft.fft(frame, n = fft_size)\n",
    "            absolute = np.abs(spectrum)\n",
    "            absolute = absolute[:np.int(fft_size / 2) + 1]\n",
    "            log_absolute = np.log(absolute + 1E-7)\n",
    "            spectrogram[frame_idx, :] = log_absolute\n",
    "            \n",
    "            \n",
    "        plt.figure(figsize = (10, 10))\n",
    "        plt.subplot(2, 1, 1)\n",
    "        # 시간 파형 그리기 \n",
    "        plt.subplot(2, 1, 2)\n",
    "        spectrogram -= np.max(spectrogram)\n",
    "        vmax = np.abs(np.min(spectrogram)) * 0.0\n",
    "        vmin = -np.abs(np.min(spectrogram)) * 0.7\n",
    "        \n",
    "        plt.imshow(spectrogram.T[-1::-1, :], \n",
    "                  extent = [0, num_samples / sample_frequency, \n",
    "                           0, sample_frequency / 2], \n",
    "                  cmap = 'gray', \n",
    "                  vmax = vmax, \n",
    "                  vmin = vmin, \n",
    "                  aspect = 'auto')\n",
    "        \n",
    "        \n",
    "        plt.title('spectrogram')\n",
    "        plt.xlabel('Time [sec]')\n",
    "        plt.ylabel('Frequency [Hz]')\n",
    "        plt.savefig(out_plot)\n",
    "        "
   ]
  }
 ],
 "metadata": {
  "kernelspec": {
   "display_name": "Python 3 (ipykernel)",
   "language": "python",
   "name": "python3"
  },
  "language_info": {
   "codemirror_mode": {
    "name": "ipython",
    "version": 3
   },
   "file_extension": ".py",
   "mimetype": "text/x-python",
   "name": "python",
   "nbconvert_exporter": "python",
   "pygments_lexer": "ipython3",
   "version": "3.9.7"
  }
 },
 "nbformat": 4,
 "nbformat_minor": 5
}
