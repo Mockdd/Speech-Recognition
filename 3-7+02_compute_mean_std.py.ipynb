{
 "cells": [
  {
   "cell_type": "markdown",
   "id": "76406277",
   "metadata": {},
   "source": [
    "code 3.7 02_compute_mean_std.py: 특징값 벡터의 평균과 표준편차 계산하기"
   ]
  },
  {
   "cell_type": "code",
   "execution_count": null,
   "id": "f2563464",
   "metadata": {},
   "outputs": [],
   "source": [
    "if __name__ == '__main__':\n",
    "    feature_list = ['fbank', 'mfcc']\n",
    "    \n",
    "    for feature in feature_list:\n",
    "        feat_scp = './%s/train_small/feats.scp' % (feature)\n",
    "        out_dir = '/%s/train_small' % (feature)\n",
    "        \n",
    "        feat_mean = None\n",
    "        feat_var = None\n",
    "        total_frames = 0\n",
    "        \n",
    "        with open(feat_scp, mode = 'r') as file_feat:\n",
    "            for i, line in enumerate(file_feat):\n",
    "                parts = line.split()\n",
    "                utterance_id = parts[0]\n",
    "                feat_path = parts[1]\n",
    "                num_frames = int(parts[2])\n",
    "                num_dims = int(parts[3])\n",
    "                \n",
    "                feature = np.fromfile(feat_path, dtype = np.float32)\n",
    "                feature = feature.reshape((num_frames, num_dims))\n",
    "                \n",
    "                if i == 0:\n",
    "                    feat_mean = np.zeros(num_dims, np.float32)\n",
    "                    feat_var = np.zeros(num_dims, np.float32)\n",
    "                    \n",
    "                total_frames += num_frames\n",
    "                feat_mean += np.sum(feature, axis = 0)\n",
    "                feat_var += np.sum(np.power(feature, 2), axis = 0)\n",
    "                \n",
    "        feat_mean /= total_frames\n",
    "        feat_var = (feat_var / total_frames) - np.power(feat_mean, 2)\n",
    "        feat_std = np.sqrt(feat_var)\n",
    "        \n",
    "        out_file = os.path.join(out_dir, 'mean_std.txt')\n",
    "        print('Output file: %s' %(out_file))\n",
    "        with open(out_file, mode = 'w') as file_o:\n",
    "            file_o.write('mean\\n')\n",
    "            for i in range(np.size(feat_mean)):\n",
    "                file_o.write('%e '% (feat_mean[i]))\n",
    "            file_o.write('\\n')\n",
    "            for i in range(np.size(feat_var)):\n",
    "                file_o.write('%e '% (feat_var[i]))\n",
    "            file_o.write('\\n')"
   ]
  },
  {
   "cell_type": "markdown",
   "id": "4498c75d",
   "metadata": {},
   "source": [
    "250321\n",
    "------------------------------------"
   ]
  },
  {
   "cell_type": "code",
   "execution_count": null,
   "id": "b7824320",
   "metadata": {},
   "outputs": [],
   "source": [
    "if __name__ == '__main__':\n",
    "    feature_list = ['fbank', 'mfcc']\n",
    "    \n",
    "    for feature in feature_list:\n",
    "        feat_file = os.path.join(os.getcwd(), feature, 'feats.scp') # feat_scp = './%s/train_small/feats.scp' % (feature)\n",
    "        out_file = os.path.join(os.abspath('..'), feature, 'out.txt') # out_dir = './%s/train_small' % (feature)\n",
    "        \n",
    "        feat_mean = None\n",
    "        feat_var = None\n",
    "        total_frames = 0\n",
    "        \n",
    "        # with open(feat_scp, mode = 'r') as file_feat:\n",
    "        for i, file in enumerate(feat_file): # for i, file in enumerate(file_feat):\n",
    "            open(file, mode = 'r') as f:\n",
    "                for line in f.readlines(): # 없어도 됨\n",
    "                    parts = line.split() \n",
    "                    utterance_id = parts[0]\n",
    "                    feat_path = parts[1]\n",
    "                    num_frames = parts[2] #int(parts[2])\n",
    "                    num_dims = parts[3] # int(parts[3])\n",
    "                    \n",
    "                    feature = np.fromfile(feat_path) # np.fromfile(feat_path, dtype = np.float32)\n",
    "                    feature = np.array(feature).reshape((num_frames, num_dims)) # feature = feature.reshape(num_frames,num_dims)\n",
    "                    \n",
    "                    if i == 0:\n",
    "                        feat_mean = 0 # feat_mean = np.zeros(num_dims, np.float32)\n",
    "                        feat_var = 0 # feat_var = np.zeros(num_dims, np.float32)\n",
    "                    else:\n",
    "                        continue\n",
    "                        \n",
    "                    total_frames += num_frames\n",
    "                    feat_mean += np.sum(features) # feat_mean += np.sum(feature, axis = 0)\n",
    "                    feat_var += np.sum(np.power(features, 2)) # feat_var += np.sum(np.power(feature, 2), axis = 0)\n",
    "                \n",
    "                feat_mean /= total_frames\n",
    "                feat_var = feat_var / total_frames - np.power(feat_mean, 2)\n",
    "                # 제곱근을 취해서 표준편차 벡터 산출 \n",
    "                # feat_std = np.sqrt(feat_var)\n",
    "                \n",
    "                # out_file = os.path.join(out_dir, 'mean_std.txt')\n",
    "                print('Output file: %s' % (out_file))\n",
    "                \n",
    "                with open(out_file, mode = 'w') as out_file: # as file_o:\n",
    "                    out_file.write('%s %s %d %d' % (utterance_id, file, feat_mean, feat_var))\n",
    "                    # file_o.write('mean\\n')\n",
    "                    # for i in range(np.size(feat_mean)):\n",
    "                    # file_o.write('%e ' % (feat_mean[i]))\n",
    "                    # fie_o.write('\\n')\n",
    "                    # file_o.write('std\\n')\n",
    "                    # for i in range(np.size(feat_std)):\n",
    "                    # file_o.write('%e ' % (feat_std[i]))\n",
    "                    # file_o.write('\\n')\n",
    "                    "
   ]
  },
  {
   "cell_type": "code",
   "execution_count": null,
   "id": "dce2ee54",
   "metadata": {},
   "outputs": [],
   "source": [
    "if __name__ == '__main__':\n",
    "    feature_list = ['fbank', 'mfcc']\n",
    "    for feature in feature_list:\n",
    "        feat_scp = './%s/train_small/feats.scp' % (feature)\n",
    "        out_dir = './%s/train_small/' % (feature)\n",
    "        \n",
    "        feat_mean = None\n",
    "        feat_var = None\n",
    "        total_frames = 0\n",
    "        \n",
    "        with open(feat_scp, mode = 'r') as file_feat:\n",
    "            for i, line in enumerate(file_feat):\n",
    "                parts = line.split()\n",
    "                utterance_id = parts[0]\n",
    "                feat_path = parts[1]\n",
    "                num_frames = int(parts[2])\n",
    "                num_dims = int(parts[3])\n",
    "                \n",
    "                feature = np.fromfile(feat_path, \n",
    "                                     dtype = np.float32)\n",
    "                \n",
    "                feature = feature.reshape(num_frames, num_dims)\n",
    "                \n",
    "                if i == 0:\n",
    "                    feat_mean = np.zeros(num_dims, np.float32)\n",
    "                    feat_var = np.zeros(num_dims, np.float32)\n",
    "                    \n",
    "                total_frames += num_frames\n",
    "                feat_mean += np.sum(feature, \n",
    "                                   axis = 0)\n",
    "                feat_var += np.sum(np.power(feature, 2), axis = 0)\n",
    "                \n",
    "            feat_mean /= total_frames\n",
    "            feat_var = (feat_var / total_frames) - np.power(feature, 2)\n",
    "            feat_std = np.sqrt(feat_var)\n",
    "            \n",
    "            out_file = os.path.join(out_dir, 'mean_std.txt')\n",
    "            print('Output file: %s' % (out_file))\n",
    "            with open(out_file, mode = 'w') as file_o:\n",
    "                file_o.write('mean\\n')\n",
    "                for i in range(np.size(feat_mean)):\n",
    "                    file_o.write('%e ' % (feat_mean[i]))\n",
    "                file_o.write('\\n')\n",
    "                file_o.write('std\\n')\n",
    "                for i in range(np.size(feat_std)):\n",
    "                    file_o.write('%e ' % (feat_std[i]))\n",
    "                file_o.write('\\n')          "
   ]
  },
  {
   "cell_type": "markdown",
   "id": "74bfd648",
   "metadata": {},
   "source": [
    "250322\n",
    "------------------------------------"
   ]
  },
  {
   "cell_type": "code",
   "execution_count": 2,
   "id": "20770e04",
   "metadata": {},
   "outputs": [],
   "source": [
    "import numpy as np\n",
    "feat_mean = np.zeros(13, np.float32)"
   ]
  },
  {
   "cell_type": "code",
   "execution_count": 3,
   "id": "4f7436ba",
   "metadata": {},
   "outputs": [
    {
     "data": {
      "text/plain": [
       "array([0., 0., 0., 0., 0., 0., 0., 0., 0., 0., 0., 0., 0.], dtype=float32)"
      ]
     },
     "execution_count": 3,
     "metadata": {},
     "output_type": "execute_result"
    }
   ],
   "source": [
    "feat_mean"
   ]
  },
  {
   "cell_type": "code",
   "execution_count": 5,
   "id": "a363b957",
   "metadata": {},
   "outputs": [],
   "source": [
    "Array = np.arange(39).reshape(3, 13)"
   ]
  },
  {
   "cell_type": "code",
   "execution_count": 6,
   "id": "52ee6371",
   "metadata": {},
   "outputs": [],
   "source": [
    "feat_mean += np.sum(Array, axis = 0)"
   ]
  },
  {
   "cell_type": "code",
   "execution_count": 7,
   "id": "36df074d",
   "metadata": {},
   "outputs": [
    {
     "data": {
      "text/plain": [
       "array([39., 42., 45., 48., 51., 54., 57., 60., 63., 66., 69., 72., 75.],\n",
       "      dtype=float32)"
      ]
     },
     "execution_count": 7,
     "metadata": {},
     "output_type": "execute_result"
    }
   ],
   "source": [
    "feat_mean"
   ]
  },
  {
   "cell_type": "code",
   "execution_count": 8,
   "id": "db8d7e4e",
   "metadata": {},
   "outputs": [
    {
     "data": {
      "text/plain": [
       "array([[ 0,  1,  2,  3,  4,  5,  6,  7,  8,  9, 10, 11, 12],\n",
       "       [13, 14, 15, 16, 17, 18, 19, 20, 21, 22, 23, 24, 25],\n",
       "       [26, 27, 28, 29, 30, 31, 32, 33, 34, 35, 36, 37, 38]])"
      ]
     },
     "execution_count": 8,
     "metadata": {},
     "output_type": "execute_result"
    }
   ],
   "source": [
    "Array"
   ]
  },
  {
   "cell_type": "code",
   "execution_count": null,
   "id": "9087265f",
   "metadata": {},
   "outputs": [],
   "source": [
    "if __name__ =='__main__':\n",
    "    features = ['fbank', 'mfcc']\n",
    "    for feature in feature:\n",
    "        feat_list = os.path.join('../exp/data/test_data', feature, 'feats.scp') # feat_scp = './%s/train_small/feat.scp' % (feature)\n",
    "        out_dir = os.path.join('../exp/data/test_data', feature) # out_dir = './%s/train_smal' % (feature)\n",
    "        \n",
    "    \n",
    "        feat_mean = None\n",
    "        feat_var = None\n",
    "        total_frames = 0\n",
    "        \n",
    "        with open(feat_list, mode = 'r') as feat_info: # with open(feat_scp, mode = 'r') as file_feat:\n",
    "                # for i, line in enumerate(file_feat):\n",
    "                parts = line.split() \n",
    "                utt_ID = parts[0]\n",
    "                path = parts[1]\n",
    "                num_frames = parts[2] # num_frames = int(parts[2])\n",
    "                num_dims = parts[3] # num_dims = int(parts[3])\n",
    "                \n",
    "                features = np.fromfile(path, dtype = np.float32)\n",
    "                features = features.shape(num_frames, num_dims)\n",
    "                \n",
    "                \n",
    "                # feat_mean = np.zeros(num_dims) 최초 파일 처리 뒤로\n",
    "                # feat_var = np.zeros(num_dims) 최초 파일 처리 뒤로\n",
    "                \n",
    "                # for i, feature in features:     \n",
    "                    if i == 0:\n",
    "                        feat_mean = np.sum(features) # feat_mean = np.zeros(num_dims)\n",
    "                        feat_var = np.sum(np.power(features, 2)) # feat_var = np.zeros(num_dims)\n",
    "                    #else:\n",
    "                     #   feat_mean += np.sum(features)\n",
    "                     #  feat_var += np.sum(np.power(features, 2))\n",
    "                \n",
    "                    total_frames += num_frames\n",
    "                    # feat_mean += np.sum(features, axis = 0)\n",
    "                    # feat_var += np.sum(np.power(features, 2))\n",
    "            \n",
    "                feat_mean /= total_frames\n",
    "                feat_var = feat_var / total_frames - np.power(feat_mean, 2)\n",
    "                # feat_std = np.sqrt(feat_var)\n",
    "            \n",
    "                out_file = os.path.join(out_dir, #path, \n",
    "                                        'mean_std.txt')\n",
    "                # print('Output file: %s' % (out_file))\n",
    "                with open(out_file, mode = 'w') as f_out:\n",
    "                    # f_out.write(path + '\\n')\n",
    "                    f_out.write('mean\\n')\n",
    "                    for i in range(np.size(feat_mean)):\n",
    "                        f_out.write('%e ' % (feat_mean[i]))\n",
    "                    f_out.write('\\n')\n",
    "                    f_out.write('std\\n')\n",
    "                    for i in range(np.size(feat_std)):\n",
    "                        f_out.write('%e ' % (feat_std[i]))\n",
    "                    f_out.write('\\n')"
   ]
  },
  {
   "cell_type": "code",
   "execution_count": 25,
   "id": "ae5f5ab3",
   "metadata": {},
   "outputs": [],
   "source": [
    "feat_mean = None\n",
    "feat_var = None"
   ]
  },
  {
   "cell_type": "code",
   "execution_count": 26,
   "id": "0da83049",
   "metadata": {},
   "outputs": [],
   "source": [
    "file1 = np.arange(0, 100, 2).reshape(10, 5)\n",
    "file2 = np.arange(0, 200, 4).reshape(10, 5)\n",
    "file3 = np.arange(0, 300, 6).reshape(10, 5)"
   ]
  },
  {
   "cell_type": "code",
   "execution_count": 27,
   "id": "c7e0a529",
   "metadata": {},
   "outputs": [],
   "source": [
    "files = [file1, file2, file3]"
   ]
  },
  {
   "cell_type": "code",
   "execution_count": 30,
   "id": "08e63ad4",
   "metadata": {},
   "outputs": [
    {
     "name": "stdout",
     "output_type": "stream",
     "text": [
      "0 [[ 0  2  4  6  8]\n",
      " [10 12 14 16 18]\n",
      " [20 22 24 26 28]\n",
      " [30 32 34 36 38]\n",
      " [40 42 44 46 48]\n",
      " [50 52 54 56 58]\n",
      " [60 62 64 66 68]\n",
      " [70 72 74 76 78]\n",
      " [80 82 84 86 88]\n",
      " [90 92 94 96 98]]\n",
      "1 [[  0   4   8  12  16]\n",
      " [ 20  24  28  32  36]\n",
      " [ 40  44  48  52  56]\n",
      " [ 60  64  68  72  76]\n",
      " [ 80  84  88  92  96]\n",
      " [100 104 108 112 116]\n",
      " [120 124 128 132 136]\n",
      " [140 144 148 152 156]\n",
      " [160 164 168 172 176]\n",
      " [180 184 188 192 196]]\n",
      "2 [[  0   6  12  18  24]\n",
      " [ 30  36  42  48  54]\n",
      " [ 60  66  72  78  84]\n",
      " [ 90  96 102 108 114]\n",
      " [120 126 132 138 144]\n",
      " [150 156 162 168 174]\n",
      " [180 186 192 198 204]\n",
      " [210 216 222 228 234]\n",
      " [240 246 252 258 264]\n",
      " [270 276 282 288 294]]\n"
     ]
    }
   ],
   "source": [
    "for (i, file) in enumerate(files):\n",
    "    print(i, file)"
   ]
  },
  {
   "cell_type": "code",
   "execution_count": 42,
   "id": "8f523f33",
   "metadata": {},
   "outputs": [
    {
     "name": "stdout",
     "output_type": "stream",
     "text": [
      "feat_mean\n",
      " [450. 470. 490. 510. 530.]\n",
      "feat_var\n",
      " [28500. 30340. 32260. 34260. 36340.]\n",
      "feat_mean\n",
      " [1350. 1410. 1470. 1530. 1590.]\n",
      "feat_var\n",
      " [142500. 151700. 161300. 171300. 181700.]\n",
      "feat_mean\n",
      " [2700. 2820. 2940. 3060. 3180.]\n",
      "feat_var\n",
      " [399000. 424760. 451640. 479640. 508760.]\n"
     ]
    }
   ],
   "source": [
    "total_frames = 0\n",
    "for (i, file) in enumerate(files):\n",
    "    if i == 0:\n",
    "        feat_mean = np.zeros(5)\n",
    "        feat_var = np.zeros(5)\n",
    "    total_frames += file.shape[0]\n",
    "    feat_mean += np.sum(file, axis = 0)\n",
    "    feat_var += np.sum(np.power(file, 2), axis = 0)\n",
    "    print('feat_mean\\n', feat_mean)\n",
    "    print('feat_var\\n', feat_var)\n",
    "\n",
    "feat_mean = feat_mean / total_frames\n",
    "feat_var = (feat_var / total_frames) - np.power(feat_mean, 2)\n",
    "feat_std = np.sqrt(feat_var)"
   ]
  }
 ],
 "metadata": {
  "kernelspec": {
   "display_name": "Python 3 (ipykernel)",
   "language": "python",
   "name": "python3"
  },
  "language_info": {
   "codemirror_mode": {
    "name": "ipython",
    "version": 3
   },
   "file_extension": ".py",
   "mimetype": "text/x-python",
   "name": "python",
   "nbconvert_exporter": "python",
   "pygments_lexer": "ipython3",
   "version": "3.9.7"
  }
 },
 "nbformat": 4,
 "nbformat_minor": 5
}
