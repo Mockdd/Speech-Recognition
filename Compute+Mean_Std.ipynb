{
 "cells": [
  {
   "cell_type": "markdown",
   "id": "3dd8bd14",
   "metadata": {},
   "source": [
    "- required packages\n",
    "    - wave\n",
    "    - numpy\n",
    "- variables\n",
    "    - feat_scp: the file path of target feature file that you want to calculate the mean and the standard variation\n",
    "    - out_dir: the file path to which you want to write the mean and standardvariation of a dataset\n",
    "- steps\n",
    "    - read feature files\n",
    "    - calculate the mean and the variance\n",
    "    - note the mean and variance according to the dimension of a feature "
   ]
  },
  {
   "cell_type": "code",
   "execution_count": null,
   "id": "f2563464",
   "metadata": {},
   "outputs": [],
   "source": [
    "if __name__ == '__main__':\n",
    "    # the mean and std of fbank is going to be utilized for DNN-HMM\n",
    "    # the mean and std of mfcc is going to be utilized for DP Mathinc and GMM-HMM\n",
    "    \n",
    "    feature_list = ['fbank', 'mfcc'] \n",
    "\n",
    "    for feature in feature_list:\n",
    "        feat_scp = 'the file where list of metadata of feature files are saved' % (feature)\n",
    "        out_dir = 'a file path to note the mean and std of feature dataset' % (feature)\n",
    "        \n",
    "        Sum = None\n",
    "        Sum_Squared = None\n",
    "        total_frames = 0\n",
    "        \n",
    "        with open(feat_scp, mode = 'r') as file_feat:\n",
    "            # extract mean and std for each dataset(e.g. train/fbank, dev/fbank, test/fbank, train/mfcc, dev/mfcc, test/mfcc)\n",
    "            for i, line in enumerate(file_feat):\n",
    "                parts = line.split()\n",
    "                utterance_id = parts[0]\n",
    "                feat_path = parts[1]\n",
    "                num_frames = int(parts[2])\n",
    "                num_dims = int(parts[3])\n",
    "                \n",
    "                # read the feature values\n",
    "                feature = np.fromfile(feat_path, dtype = np.float32)\n",
    "                feature = feature.reshape((num_frames, num_dims))\n",
    "                \n",
    "                # initialize the value of calculation variable\n",
    "                if i == 0:\n",
    "                    Sum = np.zeros(num_dims, np.float32)\n",
    "                    Sum_squared = np.zeros(num_dims, np.float32)\n",
    "                    \n",
    "                total_frames += num_frames\n",
    "                Sum += np.sum(feature, axis = 0)\n",
    "                Sum_squared += np.sum(np.power(feature, 2), axis = 0)\n",
    "        \n",
    "        # calculate the mean and the variance\n",
    "        feat_mean = (Sum / total_frames) \n",
    "        feat_var = (Sum_squared / total_frames) - np.power(feat_mean, 2)\n",
    "        feat_std = np.sqrt(feat_var)\n",
    "        \n",
    "        # save mean and variance information to out_file\n",
    "        out_file = os.path.join(out_dir, 'mean_std.txt')\n",
    "        print('Output file: %s' %(out_file))\n",
    "        with open(out_file, mode = 'w') as file_o:\n",
    "            file_o.write('mean\\n')\n",
    "            for i in range(np.size(feat_mean)):\n",
    "                file_o.write('%e '% (feat_mean[i]))\n",
    "            file_o.write('\\n')\n",
    "            for i in range(np.size(feat_var)):\n",
    "                file_o.write('%e '% (feat_var[i]))\n",
    "            file_o.write('\\n')"
   ]
  }
 ],
 "metadata": {
  "kernelspec": {
   "display_name": "Python 3 (ipykernel)",
   "language": "python",
   "name": "python3"
  },
  "language_info": {
   "codemirror_mode": {
    "name": "ipython",
    "version": 3
   },
   "file_extension": ".py",
   "mimetype": "text/x-python",
   "name": "python",
   "nbconvert_exporter": "python",
   "pygments_lexer": "ipython3",
   "version": "3.9.7"
  }
 },
 "nbformat": 4,
 "nbformat_minor": 5
}
