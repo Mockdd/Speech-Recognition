{
 "cells": [
  {
   "cell_type": "code",
   "execution_count": null,
   "id": "7b35e540",
   "metadata": {},
   "outputs": [],
   "source": [
    "if __name__ == '__main__':\n",
    "    wav_file = '../data/wav/BASIC5000_0001.wav'"
   ]
  },
  {
   "cell_type": "code",
   "execution_count": null,
   "id": "dc1030de",
   "metadata": {},
   "outputs": [],
   "source": [
    "target_time = 0.58\n",
    "fft_size = 1024\n",
    "out_plot = './spectrium.png'"
   ]
  },
  {
   "cell_type": "code",
   "execution_count": null,
   "id": "f1b40037",
   "metadata": {},
   "outputs": [],
   "source": [
    "with wave.open(wav_file) as wav:\n",
    "    sampling_frequency = wav.getframerate()\n",
    "    waveform = wav.readframes(wav.getnframes())\n",
    "    waveform = np.frombuffer(waveform, dtype = np.int16)"
   ]
  },
  {
   "cell_type": "code",
   "execution_count": null,
   "id": "e2b388ba",
   "metadata": {},
   "outputs": [],
   "source": [
    "target_index = np.int(target_time * sampling_frequency)\n",
    "frame = waveform[target_index: target_index + fft_size]"
   ]
  },
  {
   "cell_type": "code",
   "execution_count": null,
   "id": "5e56a8bb",
   "metadata": {},
   "outputs": [],
   "source": [
    "spectrium = np.fft.fft(frame)\n",
    "absolute = np.abs(spectrium)\n",
    "absolute = absolute[:np.int(fft_size/2) + 1]\n",
    "log_absolute = np.log(absolute + 1E-7)"
   ]
  },
  {
   "cell_type": "code",
   "execution_count": null,
   "id": "9422a4f4",
   "metadata": {},
   "outputs": [],
   "source": [
    "plt.figure(figsize = (10, 10))\n",
    "plt.subplot(2, 1, 1)"
   ]
  },
  {
   "cell_type": "code",
   "execution_count": null,
   "id": "2a345308",
   "metadata": {},
   "outputs": [],
   "source": [
    "plt.subplot(2, 1, 2)\n",
    "freq_axis = np.arange(np.int(fft_size/2)+1) \\* sampling_frequency / fft_size\n",
    "\n",
    "plt.plot(freq_axis, log_absolute)"
   ]
  },
  {
   "cell_type": "code",
   "execution_count": null,
   "id": "623d2c98",
   "metadata": {},
   "outputs": [],
   "source": [
    "plt.title('log=absolute spectrium')\n",
    "plt.xlabel('Frequency [Hz]')\n",
    "plt.ylabel('Value')\n",
    "plt.xlim([0, sampling_frequency / 2])\n",
    "plt.savefig(out_plot)"
   ]
  },
  {
   "cell_type": "markdown",
   "id": "d526648a",
   "metadata": {},
   "source": [
    "code 3.2 test_fft.py: wav 파이의 특정 시각 파형을 푸리에 변환하여 로그 진폭 스펙트럼을 표시"
   ]
  },
  {
   "cell_type": "code",
   "execution_count": null,
   "id": "44e418da",
   "metadata": {},
   "outputs": [],
   "source": [
    "if __name__ == '__main__':\n",
    "    wav_file = '../data/wav/BASIC5000_0001.wav'\n",
    "    \n",
    "    target_time = 0.58\n",
    "    fft_size = 1024\n",
    "    out_plot = './spectrum.png'\n",
    "    \n",
    "    with wave.open(wav_file) as wav:\n",
    "        sampling_frequency = wav.getframerate()\n",
    "        sampling_size = wav.getampwidth()\n",
    "        num_channels = wav.getnchannels()\n",
    "        num_samples = wav.getnframes()\n",
    "        \n",
    "        waveform = wav.readframes(wav.getnframes())\n",
    "        waveform = np.frombuffer(waveform, dtype = np.int16)\n",
    "        \n",
    "        target_index = np.int(target_time * sampling_frequency)\n",
    "        frame = waveform[target_index: target_index + fft_size]\n",
    "        specturm = np.fft.fft(frame)\n",
    "        absolute = np.abs(specturm)\n",
    "        absolute = absolute[:np.int(fft_size / 2) + 1]\n",
    "        log_absolute = np.log(absolute + 1E-7)\n",
    "        \n",
    "        plt.figure(figsize = (10, 10))\n",
    "        time_axis = np.arange(num_samples) / sample_frequency\n",
    "        plt.subplot(2, 1, 1)\n",
    "        plt.plot(time_axis, waveform)\n",
    "        plt.xlim([0: num_samples / sampling_frequency])\n",
    "        plt.title('Waveform')\n",
    "        plt.xlabel('Time [sec]')\n",
    "        plt.ylabel('Value')\n",
    "        \n",
    "        plt.subplot(2, 1, 2)\n",
    "        freq_axis = np.arange(np.int(fft_size / 2) + 1) * sampling_frequency / fft_size \n",
    "        plt.plot(freq_axis, log_absolute)\n",
    "        plt.title('log-absolute specturm')\n",
    "        plt.xlabel('Frequency [Hz]')\n",
    "        plt.ylabel('Value')\n",
    "        plt.xlim([0, sampling_frequency / 2])\n",
    "        \n",
    "        plt.savefig(out_plot)"
   ]
  },
  {
   "cell_type": "markdown",
   "id": "5fd0e9f4",
   "metadata": {},
   "source": [
    " \n",
    "------------------------------------------------------\n",
    "### 2025.02.24"
   ]
  },
  {
   "cell_type": "code",
   "execution_count": null,
   "id": "edfa2474",
   "metadata": {},
   "outputs": [],
   "source": [
    "if __name__ == '__main__':\n",
    "    wav_path = os.path.join(os.getcwd(), './basic5000/wav/', 'basic5000_4500.wav')\n",
    "    out_log_plot = 'out_log_plot.png' # out_plot = './spectrum.png'\n",
    "    \n",
    "    target_time = 1.5\n",
    "    fft_size = 256\n",
    "    \n",
    "    with wave.open(wav_path) as wav:\n",
    "        sampling_frequency = wav.getframerate()\n",
    "        num_samples = wav.getnframes()\n",
    "        window_size = 25 # 아 window화가 아니라 고속 푸리에 변환을 하는 거니까 fft를 시행할 프레임 개수만큼 slicing을 해주면 됨\n",
    "        \n",
    "        target_sample = 1.5 * sampling_frequency / num_samples  # 분석 시간을 샘플 번호로 변환 target_index = np.int(target_time * sampling_frequency)\n",
    "        window_size_frame = 25 * 0.001 * sampling_frequency / num_samples # 필요 없음 .. ㅎ \n",
    "        \n",
    "        waveform = wav.readframes(num_samples)\n",
    "        waveform = np.frombuffer(waveform, dtype = np.int16)\n",
    "        waveform = waveform[target_sample, target_sample + window_size_frame] # waveform = waveform[target_index: target_index + fft_size]\n",
    "        \n",
    "        waveform = np.fft.fft(waveform) # spectrum = np.fft.fft(waveform)\n",
    "        waveform = np.abs(np.fft.ret(waveform)) # absolute = np.abs(spectrum)\n",
    "        waveform = waveform[waveform > 0] # absolute = absolute[:np.int(fft_size / 2) + 1]\n",
    "        \n",
    "        log_waveform = np.log(waveform)\n",
    "        log_waveform[log_waveform < 1E-7] = 1E-7 # log_absolute = np.log(absolute + 1E-7)\n",
    "        "
   ]
  },
  {
   "cell_type": "code",
   "execution_count": null,
   "id": "deb3ae08",
   "metadata": {},
   "outputs": [],
   "source": [
    "time_axis = np.range(num_samples) / sampling_frequency # 시간 축이 아니라 주파수 축 freq_axis = np.arange(np.int(fft_size / 2) + 1) * sampling_frequency / fft_size\n",
    "\n",
    "\n",
    "plt.plot(time_axis, log_waveform, color = 'grey') \n",
    "# 시각화 영역 생성 plt.figure(figsize = (10, 10))\n",
    "# 그림 영역을 종으로 2분할 plt.subplots(2, 1, 2)\n",
    "\n",
    "plt.title('FFT waveform') # plt.title('log-absolute spectrum')\n",
    "plt.xlabel('Frequency [Hz]')\n",
    "plt.ylabel('Amplitude') # plt.ylabel('Value')\n",
    "plt.xlim([0, num_samples / sampling_frequency]) # [0, sampling_frequency / 2]\n",
    "plt.show()\n",
    "plt.savefig(out_log_plot)"
   ]
  },
  {
   "cell_type": "markdown",
   "id": "5fa70842",
   "metadata": {},
   "source": [
    "----------------------"
   ]
  },
  {
   "cell_type": "code",
   "execution_count": 16,
   "id": "d15721b2",
   "metadata": {},
   "outputs": [],
   "source": [
    "import wave\n",
    "import os\n",
    "import numpy as np\n",
    "import matplotlib.pyplot as plt\n",
    "\n",
    "wav_path = r'C:\\Users\\Aaron Cho\\project\\PDA\\voice\\basic5000\\wav\\BASIC5000_4500.wav'\n",
    "out_plot = 'spectrum.png'\n",
    "\n",
    "target_time = 1.74\n",
    "fft_size = 512"
   ]
  },
  {
   "cell_type": "code",
   "execution_count": 33,
   "id": "db6177e8",
   "metadata": {},
   "outputs": [
    {
     "data": {
      "text/plain": [
       "4.12"
      ]
     },
     "execution_count": 33,
     "metadata": {},
     "output_type": "execute_result"
    }
   ],
   "source": [
    "num_samples / sampling_frequency"
   ]
  },
  {
   "cell_type": "code",
   "execution_count": 34,
   "id": "81219ba5",
   "metadata": {},
   "outputs": [
    {
     "data": {
      "text/plain": [
       "83520"
      ]
     },
     "execution_count": 34,
     "metadata": {},
     "output_type": "execute_result"
    }
   ],
   "source": [
    "target_index"
   ]
  },
  {
   "cell_type": "code",
   "execution_count": 35,
   "id": "ea6c7669",
   "metadata": {},
   "outputs": [
    {
     "data": {
      "text/plain": [
       "84032"
      ]
     },
     "execution_count": 35,
     "metadata": {},
     "output_type": "execute_result"
    }
   ],
   "source": [
    "target_index + fft_size"
   ]
  },
  {
   "cell_type": "code",
   "execution_count": 38,
   "id": "e4aa8599",
   "metadata": {
    "scrolled": true
   },
   "outputs": [],
   "source": [
    "with wave.open(wav_path) as wav:\n",
    "    sampling_frequency = wav.getframerate()\n",
    "    num_samples = wav.getnframes()\n",
    "    waveform = wav.readframes(num_samples)\n",
    "    # 아 맞다 데이터타입 변환 \n",
    "    waveform = np.frombuffer(waveform, np.int16)\n",
    "    \n",
    "    target_index = int(target_time * sampling_frequency)\n",
    "    target_waveform = waveform[target_index: target_index + fft_size]\n",
    "    \n",
    "    spectrum = np.fft.fft(target_waveform)\n",
    "    absolute = np.abs(spectrum)\n",
    "    absolute = absolute[:int(fft_size / 2) + 1]\n",
    "    log_absolute = np.log(absolute)\n",
    "    log_absolute[log_absolute < 1E-7] = 1E-7"
   ]
  },
  {
   "cell_type": "code",
   "execution_count": 42,
   "id": "811e4c9e",
   "metadata": {},
   "outputs": [
    {
     "ename": "IndexError",
     "evalue": "too many indices for array: array is 1-dimensional, but 2 were indexed",
     "output_type": "error",
     "traceback": [
      "\u001b[1;31m---------------------------------------------------------------------------\u001b[0m",
      "\u001b[1;31mIndexError\u001b[0m                                Traceback (most recent call last)",
      "\u001b[1;32mC:\\Users\\AARONC~1\\AppData\\Local\\Temp/ipykernel_16940/1152380754.py\u001b[0m in \u001b[0;36m<module>\u001b[1;34m\u001b[0m\n\u001b[0;32m      6\u001b[0m \u001b[0mfig\u001b[0m\u001b[1;33m,\u001b[0m \u001b[0max\u001b[0m \u001b[1;33m=\u001b[0m \u001b[0mplt\u001b[0m\u001b[1;33m.\u001b[0m\u001b[0msubplots\u001b[0m\u001b[1;33m(\u001b[0m\u001b[1;36m1\u001b[0m\u001b[1;33m,\u001b[0m \u001b[1;36m2\u001b[0m\u001b[1;33m)\u001b[0m\u001b[1;33m\u001b[0m\u001b[1;33m\u001b[0m\u001b[0m\n\u001b[0;32m      7\u001b[0m \u001b[1;33m\u001b[0m\u001b[0m\n\u001b[1;32m----> 8\u001b[1;33m \u001b[0max\u001b[0m\u001b[1;33m[\u001b[0m\u001b[1;36m0\u001b[0m\u001b[1;33m,\u001b[0m \u001b[1;36m0\u001b[0m\u001b[1;33m]\u001b[0m\u001b[1;33m.\u001b[0m\u001b[0mplot\u001b[0m\u001b[1;33m(\u001b[0m\u001b[0mtime_axis\u001b[0m\u001b[1;33m,\u001b[0m \u001b[0mwaveform\u001b[0m\u001b[1;33m,\u001b[0m \u001b[0mcolor\u001b[0m \u001b[1;33m=\u001b[0m \u001b[1;34m'green'\u001b[0m\u001b[1;33m)\u001b[0m\u001b[1;33m\u001b[0m\u001b[1;33m\u001b[0m\u001b[0m\n\u001b[0m\u001b[0;32m      9\u001b[0m \u001b[0max\u001b[0m\u001b[1;33m[\u001b[0m\u001b[1;36m0\u001b[0m\u001b[1;33m,\u001b[0m \u001b[1;36m0\u001b[0m\u001b[1;33m]\u001b[0m\u001b[1;33m.\u001b[0m\u001b[0mtitle\u001b[0m\u001b[1;33m(\u001b[0m\u001b[1;34m'waveform'\u001b[0m\u001b[1;33m)\u001b[0m\u001b[1;33m\u001b[0m\u001b[1;33m\u001b[0m\u001b[0m\n\u001b[0;32m     10\u001b[0m \u001b[0max\u001b[0m\u001b[1;33m[\u001b[0m\u001b[1;36m0\u001b[0m\u001b[1;33m,\u001b[0m \u001b[1;36m0\u001b[0m\u001b[1;33m]\u001b[0m\u001b[1;33m.\u001b[0m\u001b[0mxlabel\u001b[0m\u001b[1;33m(\u001b[0m\u001b[1;34m'Time [sec]'\u001b[0m\u001b[1;33m)\u001b[0m\u001b[1;33m\u001b[0m\u001b[1;33m\u001b[0m\u001b[0m\n",
      "\u001b[1;31mIndexError\u001b[0m: too many indices for array: array is 1-dimensional, but 2 were indexed"
     ]
    },
    {
     "data": {
      "text/plain": [
       "<Figure size 1080x720 with 0 Axes>"
      ]
     },
     "metadata": {},
     "output_type": "display_data"
    },
    {
     "data": {
      "image/png": "[encoded data removed]",
      "text/plain": [
       "<Figure size 432x288 with 2 Axes>"
      ]
     },
     "metadata": {
      "needs_background": "light"
     },
     "output_type": "display_data"
    }
   ],
   "source": [
    "time_axis = np.arange(num_samples) / sampling_frequency \n",
    "freq_axis = np.arange(sampling_frequency / 2) / int(fft_size / 2) + 1 \n",
    "# np.arange(int(fft_size / 2) + 1) * sampling_frequency / fft_size\n",
    "    \n",
    "    \n",
    "plt.figure(figsize = (15, 10))\n",
    "fig, ax = plt.subplots(1, 2)\n",
    "    \n",
    "ax[0, 0].plot(time_axis, waveform, color = 'green')\n",
    "ax[0, 0].title('waveform')\n",
    "ax[0, 0].xlabel('Time [sec]')\n",
    "ax[0, 0].ylabel('Value')\n",
    "ax[0, 0].xlim([0, num_samples / sampling_frequency])\n",
    "    \n",
    "ax[0, 1].plot(freq_axis, log_absolute, color = 'blue')\n",
    "ax[0, 1].title('log-absolute spectrum')\n",
    "ax[0, 1].xlabel('Freq [Hz]')\n",
    "ax[0, 1].ylabel('Value')\n",
    "ax[0, 1].xlim([0, sampling_frequency / 2])"
   ]
  },
  {
   "cell_type": "code",
   "execution_count": 50,
   "id": "b23fada5",
   "metadata": {},
   "outputs": [],
   "source": [
    "freq_axis = np.arange(int(fft_size / 2) + 1) *sampling_frequency / fft_size"
   ]
  },
  {
   "cell_type": "code",
   "execution_count": 51,
   "id": "4f74b552",
   "metadata": {},
   "outputs": [
    {
     "data": {
      "text/plain": [
       "[<matplotlib.lines.Line2D at 0x1d1e6c06280>]"
      ]
     },
     "execution_count": 51,
     "metadata": {},
     "output_type": "execute_result"
    },
    {
     "data": {
      "image/png": "[encoded data removed]",
      "text/plain": [
       "<Figure size 432x288 with 1 Axes>"
      ]
     },
     "metadata": {
      "needs_background": "light"
     },
     "output_type": "display_data"
    }
   ],
   "source": [
    "plt.plot(freq_axis, log_absolute)"
   ]
  },
  {
   "cell_type": "code",
   "execution_count": null,
   "id": "0e91f716",
   "metadata": {},
   "outputs": [],
   "source": []
  }
 ],
 "metadata": {
  "kernelspec": {
   "display_name": "Python 3 (ipykernel)",
   "language": "python",
   "name": "python3"
  },
  "language_info": {
   "codemirror_mode": {
    "name": "ipython",
    "version": 3
   },
   "file_extension": ".py",
   "mimetype": "text/x-python",
   "name": "python",
   "nbconvert_exporter": "python",
   "pygments_lexer": "ipython3",
   "version": "3.9.7"
  }
 },
 "nbformat": 4,
 "nbformat_minor": 5
}
