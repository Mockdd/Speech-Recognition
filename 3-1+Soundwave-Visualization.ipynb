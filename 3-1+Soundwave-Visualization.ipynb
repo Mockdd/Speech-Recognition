{
 "cells": [
  {
   "cell_type": "markdown",
   "id": "e29ebbd2",
   "metadata": {},
   "source": [
    "- **required packages** \n",
    "    - wave\n",
    "    - numpy\n",
    "    - matplotlib.pyplot \n",
    "- **variables**\n",
    "    - wav_file: the path of an audio file to be visualized\n",
    "    - out_plot: a file name to save the visualization\n",
    "    \n",
    "    - sampling_frequency: the number of samples that is recorded for 1 second\n",
    "    - sample_size: the width of an amplitude of an audio file\n",
    "    - num_channels: the number of channels that the audio file was recorded\n",
    "    - num_samples: the number of samples recorded in the audio file\n",
    "    - waveform: x-axis time, y-axis amplitude graph of the given audio file\n",
    "- **steps**\n",
    "    - assign\n",
    "        - wav_file, out_plot \n",
    "    - read files and attributes\n",
    "        - sampling_frequency, amplitude, num_channels, num_samples, waveform\n",
    "    - visualize and export"
   ]
  },
  {
   "cell_type": "code",
   "execution_count": 11,
   "id": "c1019b79",
   "metadata": {},
   "outputs": [
    {
     "data": {
      "text/plain": [
       "'C:\\\\Users\\\\Aaron Cho\\\\project\\\\PDA\\\\voice'"
      ]
     },
     "execution_count": 11,
     "metadata": {},
     "output_type": "execute_result"
    }
   ],
   "source": [
    "os.getcwd()"
   ]
  },
  {
   "cell_type": "code",
   "execution_count": 4,
   "id": "8b04cb7a",
   "metadata": {},
   "outputs": [],
   "source": [
    "import wave\n",
    "import numpy as np\n",
    "import matplotlib.pyplot as plt"
   ]
  },
  {
   "cell_type": "code",
   "execution_count": 12,
   "id": "32738e27",
   "metadata": {},
   "outputs": [
    {
     "name": "stdout",
     "output_type": "stream",
     "text": [
      "Sampling Frequency: 48000 [Hz]\n",
      "Amplitude: 2\n",
      "Number of Channels: 1\n",
      "Number of Samples: 182400\n",
      "Duration of Recording: 3\n"
     ]
    },
    {
     "data": {
      "image/png": "[encoded data removed]",
      "text/plain": [
       "<Figure size 432x288 with 1 Axes>"
      ]
     },
     "metadata": {
      "needs_background": "light"
     },
     "output_type": "display_data"
    }
   ],
   "source": [
    "if __name__ == '__main__':\n",
    "    wav_file = './basic500/wav/BASIC5000_0018.wav'    \n",
    "    out_plot = './waveform.png'\n",
    "\n",
    "    with wave.open(wav_path, mode = 'r') as wav:\n",
    "        sampling_frequency = wav.getframerate()\n",
    "        amplitude = wav.getsampwidth() #amplitude는 waveform에서 나타나는 것 # 이거는 sample size 확인\n",
    "        num_channels = wav.getnchannels()\n",
    "        num_samples = wav.getnframes()\n",
    "      \n",
    "        print('Sampling Frequency: %d [Hz]' % (sampling_frequency))\n",
    "        print('Amplitude: %d' % (amplitude))\n",
    "        print('Number of Channels: %d' % (num_channels))\n",
    "        print('Number of Samples: %d' % (num_samples))\n",
    "        print('Duration of Recording: %d' % (time_axis[-1]))\n",
    "        \n",
    "        waveform = wav.readframes(num_samples)\n",
    "        waveform = np.frombuffer(waveform, dtype = np.int16)\n",
    "\n",
    "        time_axis = np.arange(num_samples) / sampling_frequency\n",
    "\n",
    "        plt.plot(time_axis, waveform, color = 'grey')\n",
    "        plt.title('Waveform')\n",
    "        plt.xlim([0, num_samples / sampling_frequency])\n",
    "        plt.xlabel('Time [sec]') # plt.xlabel('Time [sec]')\n",
    "        plt.ylabel('Value') # plt.ylabel('Value')\n",
    "\n",
    "        plt.show\n",
    "        plt.savefig(out_plot)"
   ]
  },
  {
   "cell_type": "code",
   "execution_count": null,
   "id": "56c4f41e",
   "metadata": {},
   "outputs": [],
   "source": []
  }
 ],
 "metadata": {
  "kernelspec": {
   "display_name": "Python 3 (ipykernel)",
   "language": "python",
   "name": "python3"
  },
  "language_info": {
   "codemirror_mode": {
    "name": "ipython",
    "version": 3
   },
   "file_extension": ".py",
   "mimetype": "text/x-python",
   "name": "python",
   "nbconvert_exporter": "python",
   "pygments_lexer": "ipython3",
   "version": "3.9.7"
  }
 },
 "nbformat": 4,
 "nbformat_minor": 5
}
