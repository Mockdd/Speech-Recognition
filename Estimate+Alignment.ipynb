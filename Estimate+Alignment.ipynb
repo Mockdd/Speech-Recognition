{
 "cells": [
  {
   "cell_type": "markdown",
   "id": "0e7cfa6a",
   "metadata": {},
   "source": [
    "- required packages\n",
    "    - numpy\n",
    "- variables\n",
    "    - hmm_file:\n",
    "    - feat_scp:\n",
    "    - label_file:\n",
    "    - align_file:\n",
    "        \n",
    "- steps\n",
    "    - read files\n",
    "        - open HMM([Class] MonoPhone, hmm_file)\n",
    "        - read features and according labels(feat_path in feat_scp, labels in label_file)\n",
    "    - estimate the alignment \n",
    "        - hmm.state_alignment\n",
    "    - save alignment information to out_dir"
   ]
  },
  {
   "cell_type": "code",
   "execution_count": null,
   "id": "e4007bae",
   "metadata": {},
   "outputs": [],
   "source": [
    "from hmmfunc import MonoPhoneHMM\n",
    "if __name__ == '__main__':\n",
    "    hmm_file = '#HMM file with basic setting values assigned'\n",
    "    feat_scp = '#a file where list of metadata of features are saved'\n",
    "    label_file = '#a file where list of labels of files are saved'\n",
    "    align_file = '#a file to which alignent information will be saved'\n",
    "    \n",
    "    # load HMM \n",
    "    hmm = MonoPhoneHMM()\n",
    "    hmm.load_hmm(hmm_file)\n",
    "    \n",
    "    # read labels for each file\n",
    "    label_list = {}\n",
    "    with open(label_file, mode = ' r') as f:\n",
    "        for line in f:\n",
    "            parts = line.split()\n",
    "            utterance_id = parts[0]\n",
    "            label = parts[1:]\n",
    "            label = np.int64(label)\n",
    "            label_list[utterace_id] = label\n",
    "        \n",
    "    # read the path of feature file and open the align file to write down\n",
    "    with open(align_file, mode = 'w') as fa, open(feat_scp, mode = 'r') as fs:\n",
    "        for line in fs:\n",
    "            parts = line.split()\n",
    "            utterance_id = parts[0]\n",
    "            feat_path = parts[1]\n",
    "            label = label_list[utterance_id]\n",
    "            \n",
    "            # read features\n",
    "            feat = np.fromfile(feat_path, dtype = np.float32)\n",
    "            feat = feat.reshape(-1, hmm.num_dims)\n",
    "            \n",
    "            # estimate the alignment using the labels and the feature\n",
    "            alignment = hmm.state_alignment(feat, label)\n",
    "            alignment = ' '.join(map(str, alignment))\n",
    "            fa.write('%s %s\\n' % (utterance_id, alignment))"
   ]
  }
 ],
 "metadata": {
  "kernelspec": {
   "display_name": "Python 3 (ipykernel)",
   "language": "python",
   "name": "python3"
  },
  "language_info": {
   "codemirror_mode": {
    "name": "ipython",
    "version": 3
   },
   "file_extension": ".py",
   "mimetype": "text/x-python",
   "name": "python",
   "nbconvert_exporter": "python",
   "pygments_lexer": "ipython3",
   "version": "3.9.7"
  }
 },
 "nbformat": 4,
 "nbformat_minor": 5
}
