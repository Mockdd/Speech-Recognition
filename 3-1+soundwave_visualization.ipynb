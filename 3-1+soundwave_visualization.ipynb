{
 "cells": [
  {
   "cell_type": "code",
   "execution_count": null,
   "id": "5969168b",
   "metadata": {},
   "outputs": [],
   "source": [
    "pip install wave"
   ]
  },
  {
   "cell_type": "code",
   "execution_count": null,
   "id": "8b04cb7a",
   "metadata": {},
   "outputs": [],
   "source": [
    "import wave\n",
    "import numpy as np\n",
    "import matplotlib.pyplot as pltb"
   ]
  },
  {
   "cell_type": "code",
   "execution_count": null,
   "id": "a6f59854",
   "metadata": {},
   "outputs": [],
   "source": [
    "if __name__ == '__main__'\n",
    "    wav_fil = '../data/wav/BASIC5000_0001.wav'\n",
    "    out_plot = './plot.png'"
   ]
  },
  {
   "cell_type": "code",
   "execution_count": null,
   "id": "1a172189",
   "metadata": {},
   "outputs": [],
   "source": [
    "with wave.opn(wav_file) as wav:\n",
    "    sampling_frequency = wav.getframerate()\n",
    "    sample_size = wav.getsampwidth()\n",
    "    num_channels = wav.getnframes()\n",
    "    waveform = wav.readframes(num_samples)\n",
    "    waveform = np.frombutter(waveform, dtype = np.int16)"
   ]
  },
  {
   "cell_type": "code",
   "execution_count": null,
   "id": "6f089a38",
   "metadata": {},
   "outputs": [],
   "source": [
    "print('Sampling Frequency: %d [Hz]' % sampling_frequency)\n",
    "print('Sample Size: %d [Byte]' % sample_size)\n",
    "print('Number of Channels: %d' % num_channels)\n",
    "print('Number of Samples: %d' % num_samples)"
   ]
  },
  {
   "cell_type": "code",
   "execution_count": null,
   "id": "1f2bf32f",
   "metadata": {},
   "outputs": [],
   "source": [
    "time_axis = np.arange(num_samples) / sampling_frequency\n",
    "plt.figure(figsize = (10,4))\n",
    "plt.plot(time_axis, waveform)\n",
    "plot.xlabel('Time [sec]')\n",
    "plt.ylabel('Value')\n",
    "plt.xlim([0, num_samples / sampling_frequency])\n",
    "plt.savefig(out_plot)"
   ]
  },
  {
   "cell_type": "markdown",
   "id": "05c1684e",
   "metadata": {},
   "source": [
    "code 3.1 plot_wave:py: 파일을 열어서 파형을 시각화한다"
   ]
  },
  {
   "cell_type": "code",
   "execution_count": null,
   "id": "edbfc2af",
   "metadata": {},
   "outputs": [],
   "source": [
    "import wave\n",
    "import numpy\n",
    "import matplotilb.pyplot as plt\n",
    "\n",
    "if __name__ == '__main__':\n",
    "    wav_file = '../data/wav/BASIC5000_0001.wav'\n",
    "    out_plot = './plot.png'\n",
    "    \n",
    "    with wave.open(wav_file) as wav:\n",
    "        sampling_frequency = wav.getframerate()\n",
    "        sampling_size = wav.getampwidth()\n",
    "        num_channels = wav.getnchannels()\n",
    "        num_samples = wav.getnframes()\n",
    "        \n",
    "        waveform = wav.readframes(num_samples)\n",
    "        waveform = np.frombuffer(waveform, dtype = np.int16)\n",
    "        \n",
    "        print('Sampling Frequency: %d [Hz]' % sampling_frequency)\n",
    "        print('Sampling Size: %d [Byte]' % sapling_size)\n",
    "        print('Number of Channel: %d' % num_channels)\n",
    "        print('Number of Samples: %d' % num_samples)\n",
    "        \n",
    "        plt.figure(figsize = (10, 4))\n",
    "                \n",
    "        time_axis = np.arange(num_samples) / sampling_frequency\n",
    "        plt.plot(time_axis, waveform)\n",
    "        plt.xlim([0, nm_samples / sampling_frequency])\n",
    "        plt.title('Waveform')\n",
    "        plt.xlabel('Time [sec]')\n",
    "        plt.ylabel('Value')\n",
    "        \n",
    "        plt.savfig(out_plot)"
   ]
  },
  {
   "cell_type": "markdown",
   "id": "34368984",
   "metadata": {},
   "source": [
    "\n",
    "-------------------------------------------------------\n",
    "### 2025-02-23"
   ]
  },
  {
   "cell_type": "code",
   "execution_count": 3,
   "id": "ece87a12",
   "metadata": {},
   "outputs": [],
   "source": [
    "import numpy as np\n",
    "import wave\n",
    "import matplotlib.pyplot as plt"
   ]
  },
  {
   "cell_type": "code",
   "execution_count": null,
   "id": "55c9aa31",
   "metadata": {},
   "outputs": [],
   "source": [
    "file_path = 'file_path'\n",
    "#out_plot = './plot.png' # 파형을 출력하는 파일(.png)\n",
    "\n",
    "with open(file_path, mode = 'r') as wav: # with wave.open(file_path) as wav:\n",
    "    sampling_frequency = wav.getnframes() #wav.getframerate()\n",
    "    amplitude = wav.getsamplesize() #wav.getsampwidth()\n",
    "    num_channels = wav.getnchannels() \n",
    "    num_samples = wav.getnsamples() #wav.getnframes()\n",
    "    \n",
    "    waveform = wave.readwaveform(wav) #waveform = wav.readframes(num_samples)\n",
    "    waveform = np.frombuffer(waveform, dtype = np.int32) #waveform = np.frombuffer(waveform, dtype = np.int16)"
   ]
  },
  {
   "cell_type": "code",
   "execution_count": null,
   "id": "a766180d",
   "metadata": {},
   "outputs": [],
   "source": [
    "time = np.arange(0, num_samples / sampling_frequency, num_samples) #time = np.arange(num_samples) / sampling_frequency)\n",
    "\n",
    "fig, ax = plt.subplots(figsize = (10, 10)) #plt.figure(figsize = (10, 4))\n",
    "ax.plot(time, amplitude) #plt.plot(time, waveform) ## 왜 amplitude가 아니라 waveform이지??\n",
    "\n",
    "#plt.xlabel('Time [sec]')\n",
    "#plt.ylabel('Value')\n",
    "#plt.xlim([0, num_samples / sampling_frequency])\n",
    "\n",
    "plt.show() # plt.savefig(out_plot)"
   ]
  },
  {
   "cell_type": "markdown",
   "id": "10b33ac9",
   "metadata": {},
   "source": [
    "---------------------------------------------"
   ]
  },
  {
   "cell_type": "code",
   "execution_count": 7,
   "id": "7f842d22",
   "metadata": {},
   "outputs": [
    {
     "data": {
      "text/plain": [
       "['.ipynb_checkpoints',\n",
       " '3-1+soundwave_visualization.ipynb',\n",
       " '3-2+Fourier_transition.ipynb',\n",
       " '3-3+Short_Time_Fourier_transformation.ipynb',\n",
       " '4-1+02_dp_matching.ipynb',\n",
       " '4-2+04_dp_matching_knn.ipynb',\n",
       " '5+Developing_GMM-HMM.ipynb',\n",
       " '5-10+03_train_gmmhmm.py.ipynb',\n",
       " '5-10+04_prepare_testdata.py.ipynb',\n",
       " '5-10+05_compute_feat_test.py.ipynb',\n",
       " '5-11+06_recognize.py.ipynb',\n",
       " '5-12+hmmfunc.py.ipynb',\n",
       " '5-13+07_phone_alignment.ipynb',\n",
       " '5-14_hmmfunc.py.ipynb',\n",
       " '5-4+01_make_proto.py.ipynb',\n",
       " '5-5+ hmmfunc.py.ipynb',\n",
       " '5-6+02_init_hmm.py.ipynb',\n",
       " '5-7+03_train_sgmhmm.py.ipynb',\n",
       " '5-8+hmmfunc.py.ipynb',\n",
       " '5-9+hmmfunc.py.ipynb',\n",
       " 'basic_settings.ipynb',\n",
       " 'exp',\n",
       " 'Untitled.ipynb',\n",
       " 'Untitled1.ipynb']"
      ]
     },
     "execution_count": 7,
     "metadata": {},
     "output_type": "execute_result"
    }
   ],
   "source": [
    "import os\n",
    "os.listdir()"
   ]
  },
  {
   "cell_type": "code",
   "execution_count": 4,
   "id": "a2a4da9f",
   "metadata": {},
   "outputs": [],
   "source": [
    "import wave\n",
    "import numpy as np\n",
    "import matplotlib.pyplot as plt"
   ]
  },
  {
   "cell_type": "code",
   "execution_count": 6,
   "id": "2e2e455f",
   "metadata": {},
   "outputs": [
    {
     "ename": "FileNotFoundError",
     "evalue": "[Errno 2] No such file or directory: 'file_path.wav'",
     "output_type": "error",
     "traceback": [
      "\u001b[1;31m---------------------------------------------------------------------------\u001b[0m",
      "\u001b[1;31mFileNotFoundError\u001b[0m                         Traceback (most recent call last)",
      "\u001b[1;32mC:\\Users\\AARONC~1\\AppData\\Local\\Temp/ipykernel_32644/834301124.py\u001b[0m in \u001b[0;36m<module>\u001b[1;34m\u001b[0m\n\u001b[0;32m      2\u001b[0m \u001b[0mout_plot\u001b[0m \u001b[1;33m=\u001b[0m \u001b[1;34m'./out_plot.png'\u001b[0m\u001b[1;33m\u001b[0m\u001b[1;33m\u001b[0m\u001b[0m\n\u001b[0;32m      3\u001b[0m \u001b[1;33m\u001b[0m\u001b[0m\n\u001b[1;32m----> 4\u001b[1;33m \u001b[1;32mwith\u001b[0m \u001b[0mwave\u001b[0m\u001b[1;33m.\u001b[0m\u001b[0mopen\u001b[0m\u001b[1;33m(\u001b[0m\u001b[0mfile_path\u001b[0m\u001b[1;33m)\u001b[0m \u001b[1;32mas\u001b[0m \u001b[0mwav\u001b[0m\u001b[1;33m:\u001b[0m\u001b[1;33m\u001b[0m\u001b[1;33m\u001b[0m\u001b[0m\n\u001b[0m\u001b[0;32m      5\u001b[0m     \u001b[0msampling_frequency\u001b[0m \u001b[1;33m=\u001b[0m \u001b[0mwav\u001b[0m\u001b[1;33m.\u001b[0m\u001b[0mgetframerate\u001b[0m\u001b[1;33m(\u001b[0m\u001b[1;33m)\u001b[0m\u001b[1;33m\u001b[0m\u001b[1;33m\u001b[0m\u001b[0m\n\u001b[0;32m      6\u001b[0m     \u001b[0mamplitude\u001b[0m \u001b[1;33m=\u001b[0m \u001b[0mwav\u001b[0m\u001b[1;33m.\u001b[0m\u001b[0mgetsampwidth\u001b[0m\u001b[1;33m(\u001b[0m\u001b[1;33m)\u001b[0m\u001b[1;33m\u001b[0m\u001b[1;33m\u001b[0m\u001b[0m\n",
      "\u001b[1;32m~\\AppData\\Local\\Programs\\Python\\Python39\\lib\\wave.py\u001b[0m in \u001b[0;36mopen\u001b[1;34m(f, mode)\u001b[0m\n\u001b[0;32m    507\u001b[0m             \u001b[0mmode\u001b[0m \u001b[1;33m=\u001b[0m \u001b[1;34m'rb'\u001b[0m\u001b[1;33m\u001b[0m\u001b[1;33m\u001b[0m\u001b[0m\n\u001b[0;32m    508\u001b[0m     \u001b[1;32mif\u001b[0m \u001b[0mmode\u001b[0m \u001b[1;32min\u001b[0m \u001b[1;33m(\u001b[0m\u001b[1;34m'r'\u001b[0m\u001b[1;33m,\u001b[0m \u001b[1;34m'rb'\u001b[0m\u001b[1;33m)\u001b[0m\u001b[1;33m:\u001b[0m\u001b[1;33m\u001b[0m\u001b[1;33m\u001b[0m\u001b[0m\n\u001b[1;32m--> 509\u001b[1;33m         \u001b[1;32mreturn\u001b[0m \u001b[0mWave_read\u001b[0m\u001b[1;33m(\u001b[0m\u001b[0mf\u001b[0m\u001b[1;33m)\u001b[0m\u001b[1;33m\u001b[0m\u001b[1;33m\u001b[0m\u001b[0m\n\u001b[0m\u001b[0;32m    510\u001b[0m     \u001b[1;32melif\u001b[0m \u001b[0mmode\u001b[0m \u001b[1;32min\u001b[0m \u001b[1;33m(\u001b[0m\u001b[1;34m'w'\u001b[0m\u001b[1;33m,\u001b[0m \u001b[1;34m'wb'\u001b[0m\u001b[1;33m)\u001b[0m\u001b[1;33m:\u001b[0m\u001b[1;33m\u001b[0m\u001b[1;33m\u001b[0m\u001b[0m\n\u001b[0;32m    511\u001b[0m         \u001b[1;32mreturn\u001b[0m \u001b[0mWave_write\u001b[0m\u001b[1;33m(\u001b[0m\u001b[0mf\u001b[0m\u001b[1;33m)\u001b[0m\u001b[1;33m\u001b[0m\u001b[1;33m\u001b[0m\u001b[0m\n",
      "\u001b[1;32m~\\AppData\\Local\\Programs\\Python\\Python39\\lib\\wave.py\u001b[0m in \u001b[0;36m__init__\u001b[1;34m(self, f)\u001b[0m\n\u001b[0;32m    157\u001b[0m         \u001b[0mself\u001b[0m\u001b[1;33m.\u001b[0m\u001b[0m_i_opened_the_file\u001b[0m \u001b[1;33m=\u001b[0m \u001b[1;32mNone\u001b[0m\u001b[1;33m\u001b[0m\u001b[1;33m\u001b[0m\u001b[0m\n\u001b[0;32m    158\u001b[0m         \u001b[1;32mif\u001b[0m \u001b[0misinstance\u001b[0m\u001b[1;33m(\u001b[0m\u001b[0mf\u001b[0m\u001b[1;33m,\u001b[0m \u001b[0mstr\u001b[0m\u001b[1;33m)\u001b[0m\u001b[1;33m:\u001b[0m\u001b[1;33m\u001b[0m\u001b[1;33m\u001b[0m\u001b[0m\n\u001b[1;32m--> 159\u001b[1;33m             \u001b[0mf\u001b[0m \u001b[1;33m=\u001b[0m \u001b[0mbuiltins\u001b[0m\u001b[1;33m.\u001b[0m\u001b[0mopen\u001b[0m\u001b[1;33m(\u001b[0m\u001b[0mf\u001b[0m\u001b[1;33m,\u001b[0m \u001b[1;34m'rb'\u001b[0m\u001b[1;33m)\u001b[0m\u001b[1;33m\u001b[0m\u001b[1;33m\u001b[0m\u001b[0m\n\u001b[0m\u001b[0;32m    160\u001b[0m             \u001b[0mself\u001b[0m\u001b[1;33m.\u001b[0m\u001b[0m_i_opened_the_file\u001b[0m \u001b[1;33m=\u001b[0m \u001b[0mf\u001b[0m\u001b[1;33m\u001b[0m\u001b[1;33m\u001b[0m\u001b[0m\n\u001b[0;32m    161\u001b[0m         \u001b[1;31m# else, assume it is an open file object already\u001b[0m\u001b[1;33m\u001b[0m\u001b[1;33m\u001b[0m\u001b[0m\n",
      "\u001b[1;31mFileNotFoundError\u001b[0m: [Errno 2] No such file or directory: 'file_path.wav'"
     ]
    }
   ],
   "source": [
    "file_path = 'file_path.wav'\n",
    "out_plot = './out_plot.png'\n",
    "\n",
    "with wave.open(file_path) as wav:\n",
    "    sampling_frequency = wav.getframerate()\n",
    "    amplitude = wav.getsampwidth()\n",
    "    num_channels = wav.getnchannels()\n",
    "    num_samples = wav.getnframes()\n",
    "    \n",
    "    waveform = wav.readframes(num_samples)\n",
    "    waveform = np.frombuffer(waveform, dtype = np.int16)\n",
    "    \n",
    "time = np.arange(num_samples) / sampling_frequency\n",
    "\n",
    "plt.figure(figsize = (10, 5))\n",
    "plt.plot(time, waveform)\n",
    "plt.xlabel('Time [sec]')\n",
    "plt.ylabel('Value')\n",
    "plt.title('Waveform Visualization')\n",
    "plt.xlim([0, num_samples / sampling_frequency])\n",
    "\n",
    "plt.savefig(out_plot)"
   ]
  },
  {
   "cell_type": "markdown",
   "id": "eb91b23d",
   "metadata": {},
   "source": [
    "--------------------------------------------------------\n",
    "### 2025.02.24"
   ]
  },
  {
   "cell_type": "code",
   "execution_count": 1,
   "id": "c60f1e1d",
   "metadata": {},
   "outputs": [],
   "source": [
    "import wave\n",
    "import numpy as np\n",
    "import matplotlib.pyplot as plt"
   ]
  },
  {
   "cell_type": "code",
   "execution_count": 6,
   "id": "4be9e3ba",
   "metadata": {
    "scrolled": true
   },
   "outputs": [
    {
     "name": "stdout",
     "output_type": "stream",
     "text": [
      "C:\\Users\\Aaron Cho\\project\\PDA\\voice\n"
     ]
    },
    {
     "data": {
      "text/plain": [
       "'BASIC5000_5000.wav'"
      ]
     },
     "execution_count": 6,
     "metadata": {},
     "output_type": "execute_result"
    }
   ],
   "source": [
    "import os\n",
    "print(os.getcwd())\n",
    "os.listdir('./basic5000/wav')[-1]"
   ]
  },
  {
   "cell_type": "code",
   "execution_count": null,
   "id": "2312c3f8",
   "metadata": {},
   "outputs": [],
   "source": [
    "os.listdir('/basic5')"
   ]
  },
  {
   "cell_type": "code",
   "execution_count": 8,
   "id": "dfcb43f8",
   "metadata": {},
   "outputs": [],
   "source": [
    "wav_path = 'C:\\\\Users\\\\Aaron Cho\\\\project\\\\PDA\\\\voice\\\\basic5000\\\\wav\\\\BASIC5000_5000.wav'\n",
    "out_plot = 'out_plot.png'"
   ]
  },
  {
   "cell_type": "code",
   "execution_count": 20,
   "id": "9f71434c",
   "metadata": {},
   "outputs": [
    {
     "name": "stdout",
     "output_type": "stream",
     "text": [
      "Sampling Frequency: 48000 [Hz]\n",
      "Amplitude: 2\n",
      "Number of Channels: 1\n",
      "Number of Samples: 171840\n"
     ]
    },
    {
     "ename": "AttributeError",
     "evalue": "module 'matplotlib.pyplot' has no attribute 'set_xlabel'",
     "output_type": "error",
     "traceback": [
      "\u001b[1;31m---------------------------------------------------------------------------\u001b[0m",
      "\u001b[1;31mAttributeError\u001b[0m                            Traceback (most recent call last)",
      "\u001b[1;32mC:\\Users\\AARONC~1\\AppData\\Local\\Temp/ipykernel_20512/2125434201.py\u001b[0m in \u001b[0;36m<module>\u001b[1;34m\u001b[0m\n\u001b[0;32m     23\u001b[0m     \u001b[0mplt\u001b[0m\u001b[1;33m.\u001b[0m\u001b[0mtitle\u001b[0m\u001b[1;33m(\u001b[0m\u001b[1;34m'Waveform'\u001b[0m\u001b[1;33m)\u001b[0m\u001b[1;33m\u001b[0m\u001b[1;33m\u001b[0m\u001b[0m\n\u001b[0;32m     24\u001b[0m     \u001b[0mplt\u001b[0m\u001b[1;33m.\u001b[0m\u001b[0mxlim\u001b[0m\u001b[1;33m(\u001b[0m\u001b[1;33m[\u001b[0m\u001b[1;36m0\u001b[0m\u001b[1;33m,\u001b[0m \u001b[0mnum_samples\u001b[0m \u001b[1;33m/\u001b[0m \u001b[0msampling_frequency\u001b[0m\u001b[1;33m]\u001b[0m\u001b[1;33m)\u001b[0m\u001b[1;33m\u001b[0m\u001b[1;33m\u001b[0m\u001b[0m\n\u001b[1;32m---> 25\u001b[1;33m     \u001b[0mplt\u001b[0m\u001b[1;33m.\u001b[0m\u001b[0mset_xlabel\u001b[0m\u001b[1;33m(\u001b[0m\u001b[1;34m'Time [sec]'\u001b[0m\u001b[1;33m)\u001b[0m\u001b[1;33m\u001b[0m\u001b[1;33m\u001b[0m\u001b[0m\n\u001b[0m\u001b[0;32m     26\u001b[0m     \u001b[0mplt\u001b[0m\u001b[1;33m.\u001b[0m\u001b[0mset_ylabel\u001b[0m\u001b[1;33m(\u001b[0m\u001b[1;34m'Value'\u001b[0m\u001b[1;33m)\u001b[0m\u001b[1;33m\u001b[0m\u001b[1;33m\u001b[0m\u001b[0m\n\u001b[0;32m     27\u001b[0m \u001b[1;33m\u001b[0m\u001b[0m\n",
      "\u001b[1;31mAttributeError\u001b[0m: module 'matplotlib.pyplot' has no attribute 'set_xlabel'"
     ]
    },
    {
     "data": {
      "image/png": "[encoded data removed]",
      "text/plain": [
       "<Figure size 432x288 with 1 Axes>"
      ]
     },
     "metadata": {
      "needs_background": "light"
     },
     "output_type": "display_data"
    }
   ],
   "source": [
    "for path in os.listdir('./basic5000/wav')[10:20]:\n",
    "    wav_path = os.path.join(os.getcwd(), './basic5000/wav', path)\n",
    "    \n",
    "\n",
    "    with wave.open(wav_path, mode = 'r') as wav:\n",
    "        sampling_frequency = wav.getframerate()\n",
    "        amplitude = wav.getsampwidth()\n",
    "        num_channels = wav.getnchannels()\n",
    "        num_samples = wav.getnframes()\n",
    "    \n",
    "        print('Sampling Frequency: %d [Hz]' % (sampling_frequency))\n",
    "        print('Amplitude: %d' % (amplitude))\n",
    "        print('Number of Channels: %d' % (num_channels))\n",
    "        print('Number of Samples: %d' % (num_samples))\n",
    "        \n",
    "        waveform = wav.readframes(num_samples)\n",
    "        waveform = np.frombuffer(waveform, dtype = np.int16)\n",
    "\n",
    "        \n",
    "        time_axis = np.arange(num_samples) / sampling_frequency\n",
    "\n",
    "    plt.plot(time_axis, waveform, color = 'grey')\n",
    "    plt.title('Waveform')\n",
    "    plt.xlim([0, num_samples / sampling_frequency])\n",
    "    plt.set_xlabel('Time [sec]') # plt.xlabel('Time [sec]')\n",
    "    plt.set_ylabel('Value') # plt.ylabel('Value')\n",
    "\n",
    "    plt.show\n",
    "    plt.savefig(out_plot)"
   ]
  },
  {
   "cell_type": "code",
   "execution_count": 22,
   "id": "32738e27",
   "metadata": {},
   "outputs": [
    {
     "name": "stdout",
     "output_type": "stream",
     "text": [
      "Sampling Frequency: 48000 [Hz]\n",
      "Amplitude: 2\n",
      "Number of Channels: 1\n",
      "Number of Samples: 171840\n",
      "Duration of Recording: 3\n",
      "Sampling Frequency: 48000 [Hz]\n",
      "Amplitude: 2\n",
      "Number of Channels: 1\n",
      "Number of Samples: 166080\n",
      "Duration of Recording: 3\n",
      "Sampling Frequency: 48000 [Hz]\n",
      "Amplitude: 2\n",
      "Number of Channels: 1\n",
      "Number of Samples: 187680\n",
      "Duration of Recording: 3\n",
      "Sampling Frequency: 48000 [Hz]\n",
      "Amplitude: 2\n",
      "Number of Channels: 1\n",
      "Number of Samples: 160320\n",
      "Duration of Recording: 3\n",
      "Sampling Frequency: 48000 [Hz]\n",
      "Amplitude: 2\n",
      "Number of Channels: 1\n",
      "Number of Samples: 166560\n",
      "Duration of Recording: 3\n",
      "Sampling Frequency: 48000 [Hz]\n",
      "Amplitude: 2\n",
      "Number of Channels: 1\n",
      "Number of Samples: 150240\n",
      "Duration of Recording: 3\n",
      "Sampling Frequency: 48000 [Hz]\n",
      "Amplitude: 2\n",
      "Number of Channels: 1\n",
      "Number of Samples: 135360\n",
      "Duration of Recording: 2\n",
      "Sampling Frequency: 48000 [Hz]\n",
      "Amplitude: 2\n",
      "Number of Channels: 1\n",
      "Number of Samples: 134400\n",
      "Duration of Recording: 2\n",
      "Sampling Frequency: 48000 [Hz]\n",
      "Amplitude: 2\n",
      "Number of Channels: 1\n",
      "Number of Samples: 172320\n",
      "Duration of Recording: 3\n",
      "Sampling Frequency: 48000 [Hz]\n",
      "Amplitude: 2\n",
      "Number of Channels: 1\n",
      "Number of Samples: 182400\n",
      "Duration of Recording: 3\n"
     ]
    },
    {
     "data": {
      "image/png": "[encoded data removed]",
      "text/plain": [
       "<Figure size 432x288 with 1 Axes>"
      ]
     },
     "metadata": {
      "needs_background": "light"
     },
     "output_type": "display_data"
    }
   ],
   "source": [
    "for path in os.listdir('./basic5000/wav')[10:20]:\n",
    "    wav_path = os.path.join(os.getcwd(), './basic5000/wav', path)\n",
    "    \n",
    "\n",
    "    with wave.open(wav_path, mode = 'r') as wav:\n",
    "        sampling_frequency = wav.getframerate()\n",
    "        amplitude = wav.getsampwidth() #amplitude는 waveform에서 나타나는 것 # 이거는 sample size 확인\n",
    "        num_channels = wav.getnchannels()\n",
    "        num_samples = wav.getnframes()\n",
    "        time_axis = np.arange(num_samples) / sampling_frequency\n",
    "    \n",
    "        print('Sampling Frequency: %d [Hz]' % (sampling_frequency))\n",
    "        print('Amplitude: %d' % (amplitude))\n",
    "        print('Number of Channels: %d' % (num_channels))\n",
    "        print('Number of Samples: %d' % (num_samples))\n",
    "        print('Duration of Recording: %d' % (time_axis[-1]))\n",
    "        \n",
    "        waveform = wav.readframes(num_samples)\n",
    "        waveform = np.frombuffer(waveform, dtype = np.int16)\n",
    "\n",
    "        \n",
    "        time_axis = np.arange(num_samples) / sampling_frequency\n",
    "\n",
    "    plt.plot(time_axis, waveform, color = 'grey')\n",
    "    plt.title('Waveform')\n",
    "    plt.xlim([0, num_samples / sampling_frequency])\n",
    "    plt.xlabel('Time [sec]') # plt.xlabel('Time [sec]')\n",
    "    plt.ylabel('Value') # plt.ylabel('Value')\n",
    "\n",
    "    plt.show\n",
    "    plt.savefig(out_plot)"
   ]
  },
  {
   "cell_type": "code",
   "execution_count": null,
   "id": "e437dab7",
   "metadata": {},
   "outputs": [],
   "source": []
  }
 ],
 "metadata": {
  "kernelspec": {
   "display_name": "Python 3 (ipykernel)",
   "language": "python",
   "name": "python3"
  },
  "language_info": {
   "codemirror_mode": {
    "name": "ipython",
    "version": 3
   },
   "file_extension": ".py",
   "mimetype": "text/x-python",
   "name": "python",
   "nbconvert_exporter": "python",
   "pygments_lexer": "ipython3",
   "version": "3.9.7"
  }
 },
 "nbformat": 4,
 "nbformat_minor": 5
}
