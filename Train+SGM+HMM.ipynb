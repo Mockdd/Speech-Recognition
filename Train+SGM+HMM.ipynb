{
 "cells": [
  {
   "cell_type": "markdown",
   "id": "0ba911fd",
   "metadata": {},
   "source": [
    "- required packages\n",
    "    - numpy \n",
    "    - os \n",
    "- steps\n",
    "    - read labels and features\n",
    "    - load HMM prototype \n",
    "    - train HMM model with train features and labels \n",
    "    - save HMM"
   ]
  },
  {
   "cell_type": "code",
   "execution_count": null,
   "id": "71da9be1",
   "metadata": {},
   "outputs": [],
   "source": [
    "if __name__ == '__main__':\n",
    "    base_name = 'the file where initialized hmm prototype is saved'\n",
    "    feat_scp = 'the file where feature metadata of audio files are saved'\n",
    "    label_file = 'the file where labels for each audio file is saved'\n",
    "    out_dir = 'the directory to where each trained HMM model will be saved'\n",
    "    \n",
    "    num_iters = 10 # the number of iteration to repeat training\n",
    "    num_utterance = 50 # the number of utterances to use for training # in real development, does not need this parameter, need to use all the train data\n",
    "    \n",
    "    # Load base HMM model\n",
    "    hmm = MonoPhoneHMM()\n",
    "    hmm.load_hmm(base_name)\n",
    "    \n",
    "    # Read labels and save\n",
    "    label_list = {}\n",
    "    with open(label_file, mode = 'r') as f:\n",
    "        for line in f:\n",
    "            parts = line.split()\n",
    "            utterance_id = parts[0]\n",
    "            labs = parts[1:]\n",
    "            labs = np.int64(labs)\n",
    "            label_list['utterance_id'] = labs\n",
    "    \n",
    "    # Read feature paths and save\n",
    "    feat_list = {}\n",
    "    with open(feat_scp, mode = 'r') as f:\n",
    "        for n, line in enumerate(f):\n",
    "            if n >= num_utters:\n",
    "                break \n",
    "            parts = line.split()\n",
    "            utterance_id = parts[0]\n",
    "            feat_path = parts[1]\n",
    "            feat_list['utterance_id'] = feat_path\n",
    "    \n",
    "    # train HMM model\n",
    "    for iteration in range(num_iter):\n",
    "        hmm.train(feat_list, label_list)\n",
    "        # save HMM model \n",
    "        out_hmm = os.path.join(out_dir, '%d.hmm' % (iteration + 1))\n",
    "        hmm.save_hmm(out_hmm)"
   ]
  }
 ],
 "metadata": {
  "kernelspec": {
   "display_name": "Python 3 (ipykernel)",
   "language": "python",
   "name": "python3"
  },
  "language_info": {
   "codemirror_mode": {
    "name": "ipython",
    "version": 3
   },
   "file_extension": ".py",
   "mimetype": "text/x-python",
   "name": "python",
   "nbconvert_exporter": "python",
   "pygments_lexer": "ipython3",
   "version": "3.9.7"
  }
 },
 "nbformat": 4,
 "nbformat_minor": 5
}
