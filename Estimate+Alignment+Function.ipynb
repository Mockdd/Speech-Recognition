{
 "cells": [
  {
   "cell_type": "code",
   "execution_count": null,
   "id": "1cd8a592",
   "metadata": {},
   "outputs": [],
   "source": [
    "class MonoPhoneHMM():\n",
    "    def state_alignment(self, feat, label):\n",
    "        # derive emission probability of each distribution\n",
    "        self.calc_out_prob(feat, label)\n",
    "        # run viterbi algorithm \n",
    "        self.viterbi_decoding(label)\n",
    "        # run back track \n",
    "        viterbi_path = self.back_track()\n",
    "\n",
    "        state_alignment = []\n",
    "        # convert the viterbi path to phone*state index for each frame\n",
    "        for vp in viterbi_path:\n",
    "            # get phoneme from label\n",
    "            l = vp[0]\n",
    "            # get phoneme index from phone\n",
    "            p = label[l]\n",
    "            # get the state number from label\n",
    "            s = vp[l]\n",
    "            # get the phoneme*state index \n",
    "            # to use as the output layer (node) index\n",
    "            state = p * self.num_states + s\n",
    "        \n",
    "            state_alignment.append(state)\n",
    "        \n",
    "        return state_alignment"
   ]
  }
 ],
 "metadata": {
  "kernelspec": {
   "display_name": "Python 3 (ipykernel)",
   "language": "python",
   "name": "python3"
  },
  "language_info": {
   "codemirror_mode": {
    "name": "ipython",
    "version": 3
   },
   "file_extension": ".py",
   "mimetype": "text/x-python",
   "name": "python",
   "nbconvert_exporter": "python",
   "pygments_lexer": "ipython3",
   "version": "3.9.7"
  }
 },
 "nbformat": 4,
 "nbformat_minor": 5
}
