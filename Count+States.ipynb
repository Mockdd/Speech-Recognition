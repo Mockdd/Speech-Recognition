{
 "cells": [
  {
   "cell_type": "markdown",
   "id": "a5343495",
   "metadata": {},
   "source": [
    "- required packages\n",
    "    - numpy\n",
    "- variables\n",
    "    - hmm_file:\n",
    "    - align_file:\n",
    "    - count_file:\n",
    "- steps\n",
    "    - open and read data\n",
    "        - read alignment information\n",
    "    - count the numbers of each state\n",
    "    - save"
   ]
  },
  {
   "cell_type": "code",
   "execution_count": null,
   "id": "a171119e",
   "metadata": {},
   "outputs": [],
   "source": [
    "if __name__ == '__main__':\n",
    "    hmm_file = '#HMM file with basic setting values assigned'\n",
    "    align_file = '#a file where alignment information are saved'\n",
    "    count_file = '#a file to which the number of each states will be save'\n",
    "    \n",
    "    # load HMM\n",
    "    hmm = MonoPhoneHMM()\n",
    "    hmm.load_hmm(hmm_file)\n",
    "    \n",
    "    # calculate the total number of phones*states\n",
    "    num_states = hmm.num_phones * hmm.num_states\n",
    "\n",
    "    # create Counter\n",
    "    count = np.zeros(num_states, np.int64)\n",
    "    \n",
    "    # open alignment file\n",
    "    with open(align_file, mide = 'r') as f:\n",
    "        for line in f:\n",
    "            # read alignment information\n",
    "            parts = line.split()\n",
    "            utterance_id = parts[0]\n",
    "            ali = parts[1:]\n",
    "            ali = np.int64(ali)\n",
    "\n",
    "            # count each phone*state\n",
    "            for a in ali:\n",
    "                count[a] += 1\n",
    "        \n",
    "    # floor the Counter\n",
    "    count[count == 0] = 1\n",
    "    \n",
    "    # save the counts information\n",
    "    with open(count_file, mode = 'w') as f:\n",
    "        count_str = ' '.join(map(str, count))\n",
    "        f.write('%\\n' % (count_str))"
   ]
  }
 ],
 "metadata": {
  "kernelspec": {
   "display_name": "Python 3 (ipykernel)",
   "language": "python",
   "name": "python3"
  },
  "language_info": {
   "codemirror_mode": {
    "name": "ipython",
    "version": 3
   },
   "file_extension": ".py",
   "mimetype": "text/x-python",
   "name": "python",
   "nbconvert_exporter": "python",
   "pygments_lexer": "ipython3",
   "version": "3.9.7"
  }
 },
 "nbformat": 4,
 "nbformat_minor": 5
}
