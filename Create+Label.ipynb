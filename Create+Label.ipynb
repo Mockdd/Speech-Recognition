{
 "cells": [
  {
   "cell_type": "markdown",
   "id": "cda8c7b5",
   "metadata": {},
   "source": [
    "- required packages \n",
    "    - numpy \n",
    "- variables\n",
    "    - Function | phone_to_index\n",
    "        - convert the string label to the matching index\n",
    "        - label_str: the file in which labels are saved with utterance_id for each audio file line by line\n",
    "        - label_int: the file to which converted label will be saved\n",
    "        - phone_list: the list of phones\n",
    "        - insert_sil: whether to insert silence(pause)\n",
    "    - phone_file: the file where phones are listed\n",
    "    - phone_out_file: the file to which each label and its matching index will be noted as a sample\n",
    "    - out_dir: the file path to which label_int and phone_out_file will be saved\n",
    "    "
   ]
  },
  {
   "cell_type": "code",
   "execution_count": 2,
   "id": "e2b7c1aa",
   "metadata": {},
   "outputs": [],
   "source": [
    "# define phone_to_index function\n",
    "\n",
    "def phone_to_index(label_str, label_int, \n",
    "                  phone_list, insert_sil = False):\n",
    "    \n",
    "    # open the input file to extract labels and open the outputfile to write down\n",
    "    with open(label_str, mode = 'r') as f_in, open(label_int, mode = 'w') as f_out:\n",
    "        for line in f_in:\n",
    "            text = line.split()\n",
    "            # separate utterance_id and labels\n",
    "            utterance_id = text[0]\n",
    "            labels = text[1:] \n",
    "            \n",
    "            # write down the utterance id \n",
    "            f_out.write('%s ' % (utterance_id))\n",
    "            # insert silence if insert_sil is True at the start of a text\n",
    "            if insert_sil == True:\n",
    "                f_out.write(' 0')\n",
    "            # convert the string label to number index and write down \n",
    "            for label in labels:\n",
    "                f_out.write(' %d' % phone_list.index(label))\n",
    "            # insert silence if insert_sil is True at the end of a text\n",
    "            if insert_sil == True:\n",
    "                f_out.write(' 0')"
   ]
  },
  {
   "cell_type": "code",
   "execution_count": null,
   "id": "fc214046",
   "metadata": {},
   "outputs": [],
   "source": [
    "if __name__ == '__main__':\n",
    "    label_str = 'the file in which labels are saved with utterance_id for each audio file line by line'\n",
    "    phone_file = 'the file in which phones are saved as string labels line by line'\n",
    "    out_dir = 'the directory path to wich label_int and phone_out_file will be saved'\n",
    "    phone_silence = 'pause'\n",
    "    insert_sil = True\n",
    "    \n",
    "    # create phone_list as insert phone_silence(pause) at index 0, the first position\n",
    "    phone_list = [phone_silence] \n",
    "    \n",
    "    # open phone_file and add to phone_list\n",
    "    with open(phone_file, mode = 'r') as f_in:\n",
    "        for phone in f_in:\n",
    "            phone_list.append(phone.strip())\n",
    "    \n",
    "    # create phone_out_file and write down each label with its matching index\n",
    "    phone_out_file = os.path.join(out_dir, 'phone_list')\n",
    "    with open(phone_out_file, mode = 'w') as f_out:\n",
    "        for i, phone in enumerate(phone_list):\n",
    "            phone_out.write('%s %d\\n' % (phone, i))\n",
    "    \n",
    "    # create label_int and run phone_to_index\n",
    "    label_int = os.path.join(out_dir, 'label_int')\n",
    "    phone_to_index(label_str, label_int, phone_list, insert_sil)"
   ]
  }
 ],
 "metadata": {
  "kernelspec": {
   "display_name": "Python 3 (ipykernel)",
   "language": "python",
   "name": "python3"
  },
  "language_info": {
   "codemirror_mode": {
    "name": "ipython",
    "version": 3
   },
   "file_extension": ".py",
   "mimetype": "text/x-python",
   "name": "python",
   "nbconvert_exporter": "python",
   "pygments_lexer": "ipython3",
   "version": "3.9.7"
  }
 },
 "nbformat": 4,
 "nbformat_minor": 5
}
