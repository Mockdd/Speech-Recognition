{
 "cells": [
  {
   "cell_type": "markdown",
   "id": "8e84414a",
   "metadata": {},
   "source": [
    "- create hmm prototype"
   ]
  },
  {
   "cell_type": "code",
   "execution_count": null,
   "id": "2691faf6",
   "metadata": {},
   "outputs": [],
   "source": [
    "from hmmfunc import MonoPhone\n",
    "\n",
    "if __name__ == '__main__':\n",
    "    phones_file = '# the file where list of phones are saved'\n",
    "    num_states = 3\n",
    "    num_dims = 13\n",
    "    prob_loop = 0.7 # initial value\n",
    "    out_dir = '# the directory you want to save hmm prototype'\n",
    "    \n",
    "    # create phone_list\n",
    "    phone_list = []\n",
    "    with open(phones_file, mode = 'r') as f:\n",
    "        for line in f:\n",
    "            phone = line.split()[0]\n",
    "            phone_list.append(phone)\n",
    "    \n",
    "    # create MonoPhone instance\n",
    "    hmm = MonoPhone()\n",
    "    # create hmm prototype\n",
    "    hmm.make_proto(phone_list, num_states, num_dims, prob_loop)\n",
    "    # save the prototype\n",
    "    out_hmm = os.path.join(out_dir, 'hmm_proto')\n",
    "    hmm.save_hmm(out_hmm)"
   ]
  }
 ],
 "metadata": {
  "kernelspec": {
   "display_name": "Python 3 (ipykernel)",
   "language": "python",
   "name": "python3"
  },
  "language_info": {
   "codemirror_mode": {
    "name": "ipython",
    "version": 3
   },
   "file_extension": ".py",
   "mimetype": "text/x-python",
   "name": "python",
   "nbconvert_exporter": "python",
   "pygments_lexer": "ipython3",
   "version": "3.9.7"
  }
 },
 "nbformat": 4,
 "nbformat_minor": 5
}
